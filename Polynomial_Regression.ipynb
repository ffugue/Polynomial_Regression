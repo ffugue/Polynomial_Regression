{
 "cells": [
  {
   "cell_type": "markdown",
   "id": "06d08c3d",
   "metadata": {
    "id": "06d08c3d"
   },
   "source": [
    "## Introduction\n",
    "This exercise explores polynomial regression, a form of regression analysis where the relationship between the independent variable \\( X \\) and the dependent variable \\( y \\) is modeled as an \\( n \\)th degree polynomial. We will create a synthetic dataset, train models with varying degrees of polynomials, and evaluate their performance on different test sets.\n",
    "\n",
    "## Task\n",
    "We want to use polynomial regression to model the relationship between the independent variable \\( X \\) and the dependent variable \\( y \\).\n",
    "\n",
    "## Dataset\n",
    "We will create a synthetic dataset using the given equation. We will use this dataset to train polynomial regression models with varying degrees of polynomials.\n",
    "We will also create different test sets to evaluate the models' performance.\n",
    "\n",
    "## Objective\n",
    "We want to find the degree of the polynomial that best fits the relationship between the independent variable \\( X \\) and the dependent variable \\( y \\). We will use the mean squared error (MSE) to evaluate the models' performance on different test sets.\n",
    "\n",
    "## Plan\n",
    "1. Create a synthetic dataset using the given equation.\n",
    "2. Split the dataset into training and testing sets.\n",
    "3. Train polynomial regression models with varying degrees of polynomials.\n",
    "4. Evaluate the models' performance on different test sets using the mean squared error (MSE).\n",
    "5. Find the degree of the polynomial that best fits the relationship between the independent variable \\( X \\) and the dependent variable \\( y \\).\n"
   ]
  },
  {
   "cell_type": "markdown",
   "id": "cf4e12d3",
   "metadata": {
    "id": "cf4e12d3"
   },
   "source": [
    "\n",
    "# Implementation (100 Points)\n",
    "We will start by creating a synthetic dataset using the given equation."
   ]
  },
  {
   "cell_type": "markdown",
   "id": "9b713c09",
   "metadata": {
    "id": "9b713c09"
   },
   "source": [
    "## 1. Create a synthetic dataset (20 Points)\n",
    "First, define a function to generate a dataset with $1000$ samples in the range of **$-4$** to **$-1$** from a polynomial with added noise. Assume that the noise is from a normal distribution and has a mean of $0$ and std of $5$.\n",
    "\n",
    "The relationship between the independent variable \\( $X$ \\) and the dependent variable \\( $y$ \\) is given by the following equation:\n",
    "\n",
    "$[ y = 0.1X^5 + X^4 - 2X^3 + 7X^2 - 9X + 3 ]$\n",
    "\n",
    "Generate the independent variable \\( $X$ \\) using the `numpy` library and then calculate the dependent variable \\( $y$ \\) using the given equation."
   ]
  },
  {
   "cell_type": "code",
   "execution_count": 1,
   "id": "47c1ad20",
   "metadata": {
    "id": "47c1ad20"
   },
   "outputs": [],
   "source": [
    "import numpy as np\n",
    "\n",
    "def create_polynomial_dataset(start, end, samples, noise=5.0):\n",
    "    data_points = np.random.uniform(start, end, samples)\n",
    "    poly_values = 0.1 * data_points**5 + data_points**4 - 2 * data_points**3 + 7 * data_points**2 - 9 * data_points + 3\n",
    "    random_noise = np.random.normal(0, noise, samples)\n",
    "    targets = poly_values + random_noise\n",
    "    return data_points, targets\n"
   ]
  },
  {
   "cell_type": "code",
   "execution_count": 2,
   "id": "42372c5b",
   "metadata": {
    "id": "42372c5b"
   },
   "outputs": [],
   "source": [
    "X, y = create_polynomial_dataset(-4, -1, 1000)"
   ]
  },
  {
   "cell_type": "markdown",
   "id": "b45715c1",
   "metadata": {
    "id": "b45715c1"
   },
   "source": [
    "## 2. Splitting the Dataset (5 Points)\n",
    "Split the dataset into training and two test sets with the same length, ensuring one test set is in the range of the training data and the other is in the **range of 5 to 7.**"
   ]
  },
  {
   "cell_type": "code",
   "execution_count": 3,
   "id": "b75d5ee7",
   "metadata": {
    "id": "b75d5ee7"
   },
   "outputs": [],
   "source": [
    "from sklearn.model_selection import train_test_split\n",
    "import numpy as np\n",
    "\n",
    "def split_dataset(data, targets, test_size=0.5, seed=100):\n",
    "    return train_test_split(data, targets, test_size=test_size, random_state=seed)\n",
    "\n",
    "def generate_out_of_range_data(start, end, num_samples, degree):\n",
    "    X_out = np.random.uniform(start, end, num_samples)\n",
    "    y_out = (\n",
    "        0.1 * X_out**degree +\n",
    "        X_out**(degree - 1) -\n",
    "        2 * X_out**(degree - 2) +\n",
    "        7 * X_out**(degree - 3) -\n",
    "        9 * X_out**(degree - 4) +\n",
    "        3**(degree - 5)\n",
    "    )\n",
    "    return X_out, y_out\n",
    "\n",
    "degree = 5\n",
    "\n",
    "X_train, X_test_in_range, y_train, y_test_in_range = split_dataset(X, y)\n",
    "\n",
    "X_test_out_of_range, y_test_out_of_range = generate_out_of_range_data(5, 7, len(X_train), degree)\n"
   ]
  },
  {
   "cell_type": "markdown",
   "id": "7b803aeb",
   "metadata": {
    "id": "7b803aeb"
   },
   "source": [
    "## 3. Polynomial Regression Training (30 Points)\n",
    "Train polynomial regression models of varying degrees from degree = 2 to degree = 7. You can use the `preprocessing`, `linear_model`, and `pipeline` classes of the `sklearn` library."
   ]
  },
  {
   "cell_type": "code",
   "execution_count": 4,
   "id": "af3d0a08",
   "metadata": {
    "id": "af3d0a08"
   },
   "outputs": [],
   "source": [
    "from sklearn.preprocessing import PolynomialFeatures\n",
    "from sklearn.linear_model import LinearRegression\n",
    "from sklearn.pipeline import make_pipeline\n",
    "\n",
    "def train_polynomial_regression(X, y, degree):\n",
    "    X_reshaped = X.reshape(-1, 1)\n",
    "    model = make_pipeline(PolynomialFeatures(degree), LinearRegression())\n",
    "    model.fit(X_reshaped, y)\n",
    "    return model\n"
   ]
  },
  {
   "cell_type": "code",
   "execution_count": 5,
   "id": "66085bd7",
   "metadata": {
    "id": "66085bd7"
   },
   "outputs": [],
   "source": [
    "models = {}\n",
    "for d in range(2, degree + 3):  # Adjust range to include degree+2\n",
    "    models[d] = train_polynomial_regression(X_train, y_train, d)\n"
   ]
  },
  {
   "cell_type": "markdown",
   "id": "bc7a79d7",
   "metadata": {
    "id": "bc7a79d7"
   },
   "source": [
    "## 4. Model Evaluation (15 Points)\n",
    "Evaluate the models on both test sets using MSE. You can use the `mean_squared_error` from `sklearn.metrics`.\n"
   ]
  },
  {
   "cell_type": "code",
   "execution_count": 6,
   "id": "6880b6f1",
   "metadata": {
    "id": "6880b6f1"
   },
   "outputs": [],
   "source": [
    "from sklearn.metrics import mean_squared_error\n",
    "\n",
    "def evaluate_models(models, X_test, y_test):\n",
    "    losses = {}\n",
    "    X_test_reshaped = X_test.reshape(-1, 1)\n",
    "    for degree, model in models.items():\n",
    "        y_pred = model.predict(X_test_reshaped)\n",
    "        mse = mean_squared_error(y_test, y_pred)\n",
    "        losses[degree] = mse\n",
    "    return losses"
   ]
  },
  {
   "cell_type": "code",
   "execution_count": 7,
   "id": "ceaab42f",
   "metadata": {
    "id": "ceaab42f"
   },
   "outputs": [],
   "source": [
    "losses_train = evaluate_models(models, X_train, y_train)\n",
    "losses_in_range = evaluate_models(models, X_test_in_range, y_test_in_range)\n",
    "losses_out_of_range = evaluate_models(models, X_test_out_of_range, y_test_out_of_range)"
   ]
  },
  {
   "cell_type": "markdown",
   "id": "9691fb1d",
   "metadata": {
    "id": "9691fb1d"
   },
   "source": [
    "## 5. Plotting Model Scores (20 Points)\n",
    "\n",
    "Now to evaluate the performance of the polynomial regression models, plot the **logarithm** of losses of the training and two test sets based on the model degree varying from 3 to 7. Train the model a few times to get a sense of how the results can change.\n"
   ]
  },
  {
   "cell_type": "code",
   "execution_count": 8,
   "id": "aR9vjREGLwqt",
   "metadata": {
    "colab": {
     "base_uri": "https://localhost:8080/",
     "height": 607
    },
    "id": "aR9vjREGLwqt",
    "outputId": "251c82c4-6e52-46ff-aa36-efdf48bb69ce"
   },
   "outputs": [
    {
     "data": {
      "image/png": "[encoded data removed]",
      "text/plain": [
       "<Figure size 1296x432 with 3 Axes>"
      ]
     },
     "metadata": {
      "needs_background": "light"
     },
     "output_type": "display_data"
    }
   ],
   "source": [
    "from matplotlib import pyplot as plt\n",
    "import numpy as np\n",
    "\n",
    "def plot_losses(ax, degrees, losses, title, label):\n",
    "    \"\"\"Plots the logarithm of losses on a given Axes object.\"\"\"\n",
    "    ax.plot(degrees, np.log([losses[deg] for deg in degrees]), marker='o', label=label)\n",
    "    ax.set_title(title)\n",
    "    ax.set_xlabel('Degree')\n",
    "    ax.set_ylabel('Log of MSE')\n",
    "    ax.legend()\n",
    "\n",
    "# Creating a figure with three subplots\n",
    "fig, (ax1, ax2, ax3) = plt.subplots(1, 3, figsize=(18, 6))\n",
    "\n",
    "# Define the range of polynomial degrees we are plotting\n",
    "degree_range = range(3, 8)\n",
    "\n",
    "# Plot training, in-range test, and out-of-range test losses\n",
    "plot_losses(ax1, degree_range, losses_train, 'Loss of Training Set based on Degree', 'Training Set')\n",
    "plot_losses(ax2, degree_range, losses_in_range, 'Loss of In-Range Test Set based on Degree', 'In-Range Test Set')\n",
    "plot_losses(ax3, degree_range, losses_out_of_range, 'Loss of Out-of-Range Test Set based on Degree', 'Out-of-Range Test Set')\n",
    "\n",
    "plt.tight_layout()\n",
    "plt.show()\n"
   ]
  },
  {
   "cell_type": "markdown",
   "id": "36eb1c60",
   "metadata": {
    "id": "36eb1c60"
   },
   "source": [
    "## Conclusion (10 Points)"
   ]
  },
  {
   "cell_type": "markdown",
   "id": "a0f48498",
   "metadata": {
    "id": "a0f48498"
   },
   "source": [
    "Now print out the losses on each set here."
   ]
  },
  {
   "cell_type": "code",
   "execution_count": 9,
   "id": "e2CrwhvxOTQ7",
   "metadata": {
    "colab": {
     "base_uri": "https://localhost:8080/"
    },
    "id": "e2CrwhvxOTQ7",
    "outputId": "bc3e87e7-d1b4-4997-b1ff-c184d87345c1"
   },
   "outputs": [
    {
     "name": "stdout",
     "output_type": "stream",
     "text": [
      "Training Set Losses: {2: 30.775164447670097, 3: 23.748149783288696, 4: 23.729248598791493, 5: 23.49851323483132, 6: 23.464768625650915, 7: 23.289895058008135}\n",
      "In-range Test Set Losses: {2: 32.444258279825085, 3: 23.952127101716332, 4: 23.900156486749335, 5: 23.994926995278217, 6: 24.002581832659576, 7: 24.17916075936343}\n",
      "Out-of-range Test Set Losses: {2: 273079.41397465445, 3: 10823988.716977127, 4: 28025700.495533876, 5: 5643241570.900197, 6: 84147485473.21727, 7: 107180827990406.47}\n"
     ]
    }
   ],
   "source": [
    "print(\"Training Set Losses:\", losses_train)\n",
    "print(\"In-range Test Set Losses:\", losses_in_range)\n",
    "print(\"Out-of-range Test Set Losses:\", losses_out_of_range)"
   ]
  },
  {
   "cell_type": "markdown",
   "id": "8522d946",
   "metadata": {
    "id": "8522d946"
   },
   "source": [
    "With comparing the loss of **training set and the in-range test set** and also **in-range test set and the out-of-range test set**, specially in higher degrees, what we can conclude about the bias - variance trade off?"
   ]
  },
  {
   "cell_type": "markdown",
   "id": "68948cb0",
   "metadata": {
    "id": "68948cb0"
   },
   "source": [
    "In machine learning, when we build models using polynomial regression, we need to balance the bias-variance trade-off. This means that we need to find a model that is not too simple, which would cause high bias, nor too complex, leading to high variance. \n",
    "\n",
    "To achieve this balance, we can compare the loss of different sets of data, such as the training set, in-range test set, and out-of-range test set. By doing this, we can observe how the model performs on seen and unseen data, and detect if it is overfitting or underfitting.\n",
    "\n",
    "Overfitting happens when the model captures noise in the training data, instead of the underlying pattern, leading to poor generalization on unseen data. We can detect overfitting by comparing the loss on the training set with the in-range test set. If the loss on the training set is significantly lower than the loss on the in-range test set, especially for higher degrees, it suggests overfitting. \n",
    "\n",
    "Additionally, we can compare the loss on the in-range test set with the out-of-range test set. If the loss on the in-range test set is significantly lower than the loss on the out-of-range test set, especially for higher degrees, it also suggests overfitting. This occurs because the model is not generalizing well to data outside the range of the training set.\n",
    "\n",
    "Therefore, to avoid overfitting, we need to find a model that balances bias and variance and generalizes well to new data. This can be achieved by selecting an appropriate degree for the polynomial regression model, using regularization techniques, or by using more data to train the model."
   ]
  },
  {
   "cell_type": "markdown",
   "id": "34af1a91",
   "metadata": {
    "id": "34af1a91"
   },
   "source": [
    "Expected to explain overfitiing on the training set and also the face that model has less generalization to unseen data."
   ]
  }
 ],
 "metadata": {
  "colab": {
   "provenance": []
  },
  "kernelspec": {
   "display_name": "Python 3 (ipykernel)",
   "language": "python",
   "name": "python3"
  },
  "language_info": {
   "codemirror_mode": {
    "name": "ipython",
    "version": 3
   },
   "file_extension": ".py",
   "mimetype": "text/x-python",
   "name": "python",
   "nbconvert_exporter": "python",
   "pygments_lexer": "ipython3",
   "version": "3.11.6"
  }
 },
 "nbformat": 4,
 "nbformat_minor": 5
}
